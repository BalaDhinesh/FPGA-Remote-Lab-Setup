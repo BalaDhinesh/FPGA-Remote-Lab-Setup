{
 "cells": [
  {
   "cell_type": "code",
   "execution_count": 1,
   "id": "9f44f91e",
   "metadata": {},
   "outputs": [
    {
     "data": {
      "application/javascript": "\ntry {\nrequire(['notebook/js/codecell'], function(codecell) {\n  codecell.CodeCell.options_default.highlight_modes[\n      'magic_text/x-csrc'] = {'reg':[/^%%microblaze/]};\n  Jupyter.notebook.events.one('kernel_ready.Kernel', function(){\n      Jupyter.notebook.get_cells().map(function(cell){\n          if (cell.cell_type == 'code'){ cell.auto_highlight(); } }) ;\n  });\n});\n} catch (e) {};\n"
     },
     "metadata": {},
     "output_type": "display_data"
    },
    {
     "data": {
      "application/javascript": "\ntry {\nrequire(['notebook/js/codecell'], function(codecell) {\n  codecell.CodeCell.options_default.highlight_modes[\n      'magic_text/x-csrc'] = {'reg':[/^%%pybind11/]};\n  Jupyter.notebook.events.one('kernel_ready.Kernel', function(){\n      Jupyter.notebook.get_cells().map(function(cell){\n          if (cell.cell_type == 'code'){ cell.auto_highlight(); } }) ;\n  });\n});\n} catch (e) {};\n"
     },
     "metadata": {},
     "output_type": "display_data"
    }
   ],
   "source": [
    "# Import the bitstream\n",
    "from pynq import Overlay\n",
    "ol_adds = Overlay(\"overlay/harness_axis.bit\")"
   ]
  },
  {
   "cell_type": "code",
   "execution_count": 2,
   "id": "f0844e81",
   "metadata": {},
   "outputs": [],
   "source": [
    "from time import time\n",
    "num_data = 1000"
   ]
  },
  {
   "cell_type": "code",
   "execution_count": 3,
   "id": "ad62f69f",
   "metadata": {},
   "outputs": [],
   "source": [
    "# Allocate input and output buffer\n",
    "import numpy as np\n",
    "from pynq import allocate\n",
    "\n",
    "in_buffer = allocate(shape=(num_data,), dtype=np.uint32, cacheable=1)\n",
    "out_buffer = allocate(shape=(num_data,), dtype=np.uint32, cacheable=1)"
   ]
  },
  {
   "cell_type": "code",
   "execution_count": 4,
   "id": "591809b2",
   "metadata": {},
   "outputs": [],
   "source": [
    "# Assign random values to input buffer\n",
    "for i in range(num_data):\n",
    "    in_buffer[i] = (np.random.randint(0,15)<<4)+np.random.randint(0,15)"
   ]
  },
  {
   "cell_type": "code",
   "execution_count": 5,
   "id": "7a1cceca",
   "metadata": {},
   "outputs": [
    {
     "name": "stdout",
     "output_type": "stream",
     "text": [
      "0xe\n",
      "0x4c\n",
      "0xad\n",
      "0x16\n",
      "0x55\n",
      "0xa3\n",
      "0x27\n",
      "0xea\n",
      "0xed\n",
      "0x28\n"
     ]
    }
   ],
   "source": [
    "# Print the values of the input buffer\n",
    "for i in range(10):\n",
    "    print(hex(in_buffer[i]))"
   ]
  },
  {
   "cell_type": "code",
   "execution_count": 6,
   "id": "d4ed969c",
   "metadata": {},
   "outputs": [
    {
     "name": "stdout",
     "output_type": "stream",
     "text": [
      "0x00\n",
      "0x00\n",
      "0x00\n",
      "0x00\n",
      "0x00\n",
      "0x00\n",
      "0x00\n",
      "0x00\n",
      "0x00\n",
      "0x00\n"
     ]
    }
   ],
   "source": [
    "# Print the values of the output buffer. All the values will be zero.\n",
    "for i in range(10):\n",
    "    print('0x' + format(out_buffer[i], '02x'))"
   ]
  },
  {
   "cell_type": "code",
   "execution_count": 7,
   "id": "903887bf",
   "metadata": {},
   "outputs": [],
   "source": [
    "# DMA driver\n",
    "import pynq.lib.dma\n",
    "dma_ip = ol_adds.dma"
   ]
  },
  {
   "cell_type": "code",
   "execution_count": 8,
   "id": "4d262ec9",
   "metadata": {},
   "outputs": [],
   "source": [
    "# Function to call our axi_adder IP\n",
    "def adds_data():\n",
    "    dma_ip.sendchannel.transfer(in_buffer)\n",
    "    dma_ip.recvchannel.transfer(out_buffer)\n",
    "    dma_ip.sendchannel.wait()\n",
    "    dma_ip.recvchannel.wait()"
   ]
  },
  {
   "cell_type": "code",
   "execution_count": 9,
   "id": "87b7a868",
   "metadata": {},
   "outputs": [
    {
     "name": "stdout",
     "output_type": "stream",
     "text": [
      "CPU:   650.000000MHz\n",
      "FCLK0: 50.000000MHz\n",
      "FCLK1: 200.000000MHz\n"
     ]
    }
   ],
   "source": [
    "# Clocks\n",
    "# Note we are using fclk1_mhz for our axi_adder and fclk0_mhz for all other IP blocks.\n",
    "from pynq import Clocks\n",
    "\n",
    "print(f'CPU:   {Clocks.cpu_mhz:.6f}MHz')\n",
    "print(f'FCLK0: {Clocks.fclk0_mhz:.6f}MHz')\n",
    "print(f'FCLK1: {Clocks.fclk1_mhz:.6f}MHz')"
   ]
  },
  {
   "cell_type": "code",
   "execution_count": 10,
   "id": "e3e61172",
   "metadata": {},
   "outputs": [
    {
     "name": "stdout",
     "output_type": "stream",
     "text": [
      "Time taken for AXI adder IP running at 200.000000MHz 0.0020689964294433594\n"
     ]
    }
   ],
   "source": [
    "# Run\n",
    "t1 = time()\n",
    "adds_data()\n",
    "t2 = time()\n",
    "t_adds = t2-t1\n",
    "print(f'Time taken for AXI adder IP running at {Clocks.fclk1_mhz:.6f}MHz', t_adds)"
   ]
  },
  {
   "cell_type": "code",
   "execution_count": 11,
   "id": "18199846",
   "metadata": {},
   "outputs": [
    {
     "name": "stdout",
     "output_type": "stream",
     "text": [
      "0x0e\n",
      "0x10\n",
      "0x17\n",
      "0x07\n",
      "0x0a\n",
      "0x0d\n",
      "0x09\n",
      "0x18\n",
      "0x1b\n",
      "0x0a\n"
     ]
    }
   ],
   "source": [
    "# Print the output buffer \n",
    "for i in range(10):\n",
    "    print('0x' + format(out_buffer[i], '02x'))"
   ]
  },
  {
   "cell_type": "code",
   "execution_count": 12,
   "id": "f0cb4527",
   "metadata": {},
   "outputs": [],
   "source": [
    "# Increase the axi adder clock frequency\n",
    "Clocks.fclk1_mhz = 500"
   ]
  },
  {
   "cell_type": "code",
   "execution_count": 13,
   "id": "e80f6fa8",
   "metadata": {},
   "outputs": [
    {
     "name": "stdout",
     "output_type": "stream",
     "text": [
      "Time taken for AXI adder IP running at 500.000000MHz 0.0027146339416503906\n"
     ]
    }
   ],
   "source": [
    "# Run again\n",
    "t1 = time()\n",
    "adds_data()\n",
    "t2 = time()\n",
    "t_adds = t2-t1\n",
    "print(f'Time taken for AXI adder IP running at {Clocks.fclk1_mhz:.6f}MHz', t_adds)"
   ]
  },
  {
   "cell_type": "code",
   "execution_count": 14,
   "id": "ae439282",
   "metadata": {},
   "outputs": [
    {
     "name": "stdout",
     "output_type": "stream",
     "text": [
      "0x0e\n",
      "0x05\n",
      "0x10\n",
      "0x17\n",
      "0x06\n",
      "0x07\n",
      "0x0a\n",
      "0x05\n",
      "0x0d\n",
      "0x09\n"
     ]
    }
   ],
   "source": [
    "# Print the output buffer \n",
    "for i in range(10):\n",
    "    print('0x' + format(out_buffer[i], '02x'))"
   ]
  },
  {
   "cell_type": "code",
   "execution_count": null,
   "id": "d870ebd2",
   "metadata": {},
   "outputs": [],
   "source": []
  }
 ],
 "metadata": {
  "kernelspec": {
   "display_name": "Python 3",
   "language": "python",
   "name": "python3"
  },
  "language_info": {
   "codemirror_mode": {
    "name": "ipython",
    "version": 3
   },
   "file_extension": ".py",
   "mimetype": "text/x-python",
   "name": "python",
   "nbconvert_exporter": "python",
   "pygments_lexer": "ipython3",
   "version": "3.8.2"
  }
 },
 "nbformat": 4,
 "nbformat_minor": 5
}
